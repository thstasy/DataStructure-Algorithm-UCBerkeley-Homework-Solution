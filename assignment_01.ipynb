{
  "metadata": {
    "kernelspec": {
      "name": "python",
      "display_name": "Python (Pyodide)",
      "language": "python"
    },
    "language_info": {
      "codemirror_mode": {
        "name": "python",
        "version": 3
      },
      "file_extension": ".py",
      "mimetype": "text/x-python",
      "name": "python",
      "nbconvert_exporter": "python",
      "pygments_lexer": "ipython3",
      "version": "3.8"
    }
  },
  "nbformat_minor": 4,
  "nbformat": 4,
  "cells": [
    {
      "cell_type": "markdown",
      "source": "1-1. O(1): Retrieving the first element from an array",
      "metadata": {}
    },
    {
      "cell_type": "code",
      "source": "first_element = my_array[0]",
      "metadata": {
        "trusted": true
      },
      "outputs": [],
      "execution_count": null
    },
    {
      "cell_type": "markdown",
      "source": "1-2. O(log n): Binary search in a sorted list",
      "metadata": {}
    },
    {
      "cell_type": "code",
      "source": "def binary_search(arr, target):\n    low, high = 0, len(arr) - 1\n    while low <= high:\n        mid = (low + high) // 2\n        if arr[mid] == target:\n            return mid\n        elif arr[mid] < target:\n            low = mid + 1\n        else:\n            high = mid - 1\n    return -1",
      "metadata": {
        "trusted": true
      },
      "outputs": [],
      "execution_count": null
    },
    {
      "cell_type": "markdown",
      "source": "1-3. O(n): Finding the maximum element in an unsorted list",
      "metadata": {}
    },
    {
      "cell_type": "code",
      "source": "def find_max(arr):\n    max_value = arr[0]\n    for element in arr:\n        if element > max_value:\n            max_value = element\n    return max_value",
      "metadata": {
        "trusted": true
      },
      "outputs": [],
      "execution_count": null
    },
    {
      "cell_type": "markdown",
      "source": "1-4. O(n log n): Mergesort algorithm",
      "metadata": {}
    },
    {
      "cell_type": "code",
      "source": "def merge_sort(arr):\n    if len(arr) <= 1:\n        return arr\n    mid = len(arr) // 2\n    left_half = merge_sort(arr[:mid])\n    right_half = merge_sort(arr[mid:])\n    return merge(left_half, right_half)\n\ndef merge(left, right):\n    result = []\n    i = j = 0\n    while i < len(left) and j < len(right):\n        if left[i] < right[j]:\n            result.append(left[i])\n            i += 1\n        else:\n            result.append(right[j])\n            j += 1\n    result.extend(left[i:])\n    result.extend(right[j:])\n    return result\n",
      "metadata": {
        "trusted": true
      },
      "outputs": [],
      "execution_count": null
    },
    {
      "cell_type": "markdown",
      "source": "1-5. O(n^2): Selection sort algorithm",
      "metadata": {}
    },
    {
      "cell_type": "code",
      "source": "def selection_sort(arr):\n    n = len(arr)\n    for i in range(n):\n        min_index = i\n        for j in range(i + 1, n):\n            if arr[j] < arr[min_index]:\n                min_index = j\n        arr[i], arr[min_index] = arr[min_index], arr[i]",
      "metadata": {
        "trusted": true
      },
      "outputs": [],
      "execution_count": null
    },
    {
      "cell_type": "markdown",
      "source": "2. (30 points) Write code to populate an array with the size n with numbers from 0 to n-1. Next, shuffle (randomly reorder or rearrange)  the numbers in the array.\n\nAvoid using shuffle() method/function. However, feel free to use the  built-in random() function.\n\nAnd finally, provide the Big O notation for both the average and worst case time complexities of your code.",
      "metadata": {}
    },
    {
      "cell_type": "code",
      "source": "import java.util.Random;\n\npublic class SimpleArrayShuffler {\n\n    public static void main(String[] args) {\n        int n = 8; \n        int[] array = populateArray(n);\n\n        System.out.println(\"Original array: \");\n        printArray(array);\n\n        simpleShuffle(array);\n\n        System.out.println(\"\\nShuffled array: \");\n        printArray(array);\n    }\n\n    // Populate array with numbers from 0 to n-1\n    public static int[] populateArray(int n) {\n        int[] array = new int[n];\n        for (int i = 0; i < n; i++) {\n            array[i] = i;\n        }\n        return array;\n    }\n\n    // Simple shuffle by randomly swapping elements\n    public static void simpleShuffle(int[] array) {\n        Random rand = new Random();\n        for (int i = 0; i < array.length; i++) {\n            int randomIndex = rand.nextInt(array.length);\n            swap(array, i, randomIndex);\n        }\n    }\n\n    // Swap elements in an array\n    public static void swap(int[] array, int i, int j) {\n        int temp = array[i];\n        array[i] = array[j];\n        array[j] = temp;\n    }\n\n    // Print array elements\n    public static void printArray(int[] array) {\n        for (int num : array) {\n            System.out.print(num + \" \");\n        }\n        System.out.println();\n    }\n}",
      "metadata": {
        "trusted": true
      },
      "outputs": [],
      "execution_count": null
    },
    {
      "cell_type": "markdown",
      "source": "Average Case: O(n^2), Worst Case: O(n^2)",
      "metadata": {}
    },
    {
      "cell_type": "markdown",
      "source": "3. (30 points) Write a function that accepts a sorted array of integers and a target value. The array may contain duplicate values. It should return the count of the number of occurrences of the target value.\n\nFull credit for a O(log n) solution and partial credit otherwise.",
      "metadata": {}
    },
    {
      "cell_type": "code",
      "source": "public class OccurrenceCounter {\n\n    public static void main(String[] args) {\n        int[] sortedArray = {1, 2, 2, 2, 4, 4, 6, 8, 8, 10};\n        int target = 2;\n        int count = countOccurrences(sortedArray, target);\n        System.out.println(\"Number of occurrences of \" + target + \": \" + count);\n    }\n\n    public static int countOccurrences(int[] sortedArray, int target) {\n        int leftIndex = findLeftmostIndex(sortedArray, target);\n        if (leftIndex == -1) {\n            // Target not found\n            return 0;\n        }\n\n        int rightIndex = findRightmostIndex(sortedArray, target);\n\n        // Calculate the count based on leftmost and rightmost indices\n        return rightIndex - leftIndex + 1;\n    }\n\n    private static int findLeftmostIndex(int[] arr, int target) {\n        int left = 0;\n        int right = arr.length - 1;\n        int result = -1;\n\n        while (left <= right) {\n            int mid = left + (right - left) / 2;\n\n            if (arr[mid] == target) {\n                result = mid;\n                right = mid - 1; // Move to the left side to find the leftmost occurrence\n            } else if (arr[mid] < target) {\n                left = mid + 1;\n            } else {\n                right = mid - 1;\n            }\n        }\n\n        return result;\n    }\n\n    private static int findRightmostIndex(int[] arr, int target) {\n        int left = 0;\n        int right = arr.length - 1;\n        int result = -1;\n\n        while (left <= right) {\n            int mid = left + (right - left) / 2;\n\n            if (arr[mid] == target) {\n                result = mid;\n                left = mid + 1; // Move to the right side to find the rightmost occurrence\n            } else if (arr[mid] < target) {\n                left = mid + 1;\n            } else {\n                right = mid - 1;\n            }\n        }\n\n        return result;\n    }\n}",
      "metadata": {
        "trusted": true
      },
      "outputs": [],
      "execution_count": null
    },
    {
      "cell_type": "markdown",
      "source": "4. (30 points) Write a function to return the index of the largest value in a sorted, rotated array. Assume that the array is sorted in ascending order. A rotated array is an array that has had its elements shifted or rotated circularly to the left or right by a certain number of positions. This rotation does not change the elements themselves but changes their positions within the array.\n\nExamples:\n[1, 2, 3, 4, 5] -> [4, 5, 1, 2, 3] # max value index: 1 (value: 5)\n[0, 1, 3, 5, 7, 11] -> [5, 7, 11, 0, 1, 3] # max value index: 2 (value: 11)\n\nFull credit for a O(log n) solution and partial credit otherwise.",
      "metadata": {}
    },
    {
      "cell_type": "code",
      "source": "public class RotatedArraySearch {\n\n    public static void main(String[] args) {\n        int[] rotatedArray1 = {4, 5, 1, 2, 3};\n        System.out.println(\"Index of the largest value: \" + findLargestValueIndex(rotatedArray1));\n\n        int[] rotatedArray2 = {5, 7, 11, 0, 1, 3};\n        System.out.println(\"Index of the largest value: \" + findLargestValueIndex(rotatedArray2));\n    }\n\n    public static int findLargestValueIndex(int[] rotatedArray) {\n        int left = 0;\n        int right = rotatedArray.length - 1;\n\n        while (left < right) {\n            int mid = left + (right - left) / 2;\n\n            if (rotatedArray[mid] > rotatedArray[mid + 1]) {\n                // mid + 1 is the index of the largest value\n                return mid + 1;\n            } else if (rotatedArray[mid] >= rotatedArray[left]) {\n                // The rotation point is on the right side\n                left = mid + 1;\n            } else {\n                // The rotation point is on the left side\n                right = mid;\n            }\n        }\n\n        // When the array is not rotated, the largest value is at the last index\n        return left;\n    }\n}",
      "metadata": {
        "trusted": true
      },
      "outputs": [],
      "execution_count": null
    }
  ]
}