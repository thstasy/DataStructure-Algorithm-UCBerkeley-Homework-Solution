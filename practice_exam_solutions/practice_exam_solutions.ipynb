{
 "cells": [
  {
   "cell_type": "markdown",
   "id": "f349f51a-8c76-4e3c-802c-c7793c72cae2",
   "metadata": {},
   "source": [
    "16. If the following values were inserted into a min heap with an array implementation, what would the contents of the array contain?\n",
    "\n",
    "10 20 40 30 15 25 5 50 35 45\n",
    "\n"
   ]
  },
  {
   "cell_type": "code",
   "execution_count": null,
   "id": "fe8a48a7-2c57-48cc-be4a-a6714b162d0a",
   "metadata": {},
   "outputs": [],
   "source": [
    "[5, 15, 10, 30, 20, 40, 25, 50, 35, 45]"
   ]
  },
  {
   "cell_type": "markdown",
   "id": "1e190b8e-243a-4a90-ba73-d68656b46c52",
   "metadata": {},
   "source": [
    "![BST](practice-exam-bst.png)\n"
   ]
  },
  {
   "cell_type": "markdown",
   "id": "0f6f1e6c-528c-4edd-a433-7898109c78a4",
   "metadata": {},
   "source": [
    "17. Write the order of nodes traveresed in the graph above for:"
   ]
  },
  {
   "cell_type": "markdown",
   "id": "094deaa9-111c-4e17-a9d4-457ec29f5f08",
   "metadata": {},
   "source": [
    "* preorder "
   ]
  },
  {
   "cell_type": "code",
   "execution_count": null,
   "id": "bd3736a1-a842-46a0-ab41-966dbc78bfd3",
   "metadata": {},
   "outputs": [],
   "source": [
    "20 10 70 60 50 90 80 100 110"
   ]
  },
  {
   "cell_type": "markdown",
   "id": "a981ad96-1712-4023-9e82-acb07cc80465",
   "metadata": {},
   "source": [
    "* inorder"
   ]
  },
  {
   "cell_type": "code",
   "execution_count": null,
   "id": "b99e3575-51ec-4246-9f8f-dff5b0e1d020",
   "metadata": {},
   "outputs": [],
   "source": [
    "10 20 50 60 70 80 90 100 110"
   ]
  },
  {
   "cell_type": "markdown",
   "id": "0aeaa448-72b8-47ac-b3b6-c1cbcfa66967",
   "metadata": {},
   "source": [
    "* postorder"
   ]
  },
  {
   "cell_type": "code",
   "execution_count": null,
   "id": "b93b8b5e-4209-4b41-a767-bbb0a36f1842",
   "metadata": {},
   "outputs": [],
   "source": [
    "10 50 60 80 110 100 90 70 20"
   ]
  },
  {
   "cell_type": "markdown",
   "id": "0518149e-b095-487c-9404-eced187e9a16",
   "metadata": {},
   "source": [
    "* level order"
   ]
  },
  {
   "cell_type": "markdown",
   "id": "fe2cb038-a781-4584-ba47-19c29a8697ea",
   "metadata": {},
   "source": [
    "20 10 70 60 90 50 80 100 110"
   ]
  },
  {
   "cell_type": "markdown",
   "id": "10d45152-38cc-4c23-9984-596b203c199f",
   "metadata": {},
   "source": [
    "18. Write a function that accepts a linked list and verifies whether it is a palindrome or not. A palindrome is sequence of values that reads the same forward and backward (e.g. 1 2 3 4 3 2 1 and 0 2 0)"
   ]
  },
  {
   "cell_type": "code",
   "execution_count": null,
   "id": "336d0574-8a15-4c60-8b36-9094da5d8a80",
   "metadata": {},
   "outputs": [],
   "source": [
    "from dsa.singlylinkedlist import Node, LinkedList\n",
    "\n",
    "def is_palindrome(ll):\n",
    "    stack = []\n",
    "    \n",
    "    current = ll.head\n",
    "    while current:\n",
    "        stack.append(current.value)\n",
    "        current = current.next\n",
    "\n",
    "    current = ll.head\n",
    "    count = len(stack) // 2\n",
    "    \n",
    "    while count > 0:\n",
    "        sv = stack.pop()\n",
    "        if current.value != sv:\n",
    "            return False\n",
    "        current = current.next\n",
    "        count -= 1\n",
    "    \n",
    "    return True\n",
    "\n"
   ]
  },
  {
   "cell_type": "code",
   "execution_count": null,
   "id": "0ef449bf-c972-4249-adfd-b52589367a2f",
   "metadata": {},
   "outputs": [],
   "source": [
    "ll = LinkedList()\n",
    "print(ll, \" palindrome? \", is_palindrome(ll))\n",
    "\n",
    "ll = LinkedList.from_array([1])\n",
    "print(ll, \" palindrome? \", is_palindrome(ll))\n",
    "\n",
    "ll = LinkedList.from_array([1, 1, 3, 3, 1, 1])\n",
    "print(ll, \" palindrome? \", is_palindrome(ll))\n",
    "\n",
    "ll = LinkedList.from_array([1, 2, 2, 2, 1, 3, 3, 2, 1])\n",
    "print(ll, \" palindrome? \", is_palindrome(ll))"
   ]
  },
  {
   "cell_type": "markdown",
   "id": "a69ff98b-e809-4b01-b938-2d5638aa01b0",
   "metadata": {},
   "source": [
    "solution with doubly linked lists"
   ]
  },
  {
   "cell_type": "code",
   "execution_count": null,
   "id": "933afbbd-f3a5-44a0-b8a2-7b4bc5bbaf05",
   "metadata": {},
   "outputs": [],
   "source": [
    "from dsa.doublylinkedlist import Node, DoublyLinkedList\n",
    "\n",
    "def is_palindrome(dll):\n",
    "    if not dll.head:\n",
    "        return True\n",
    "\n",
    "    left = dll.head\n",
    "    right = dll.tail\n",
    "\n",
    "    while left != right and left.prev != right:\n",
    "        if left.value != right.value:\n",
    "            return False\n",
    "        left = left.next\n",
    "        right = right.prev\n",
    "\n",
    "    return True"
   ]
  },
  {
   "cell_type": "code",
   "execution_count": null,
   "id": "9a18a3d3-709f-4851-8879-18470322661d",
   "metadata": {},
   "outputs": [],
   "source": [
    "dll = DoublyLinkedList()\n",
    "print(dll, \" palindrome? \", is_palindrome(dll))\n",
    "\n",
    "dll = DoublyLinkedList.from_array([1])\n",
    "print(dll, \" palindrome? \", is_palindrome(dll))\n",
    "\n",
    "dll = DoublyLinkedList.from_array([1, 1, 3, 3, 1, 1])\n",
    "print(dll, \" palindrome? \", is_palindrome(dll))\n",
    "\n",
    "dll = DoublyLinkedList.from_array([1, 2, 2, 2, 1, 3, 3, 2, 1])\n",
    "print(dll, \" palindrome? \", is_palindrome(dll))\n",
    "\n"
   ]
  },
  {
   "cell_type": "markdown",
   "id": "b10904af-0a65-43e6-9a2f-5ac878101124",
   "metadata": {},
   "source": [
    "19. Write a function that accepts a binary tree and returns its height.\n",
    "\n"
   ]
  },
  {
   "cell_type": "code",
   "execution_count": 4,
   "id": "2d7407e1-f906-44dc-873e-f7eaafcad45b",
   "metadata": {},
   "outputs": [
    {
     "name": "stdout",
     "output_type": "stream",
     "text": [
      "Height: 3\n"
     ]
    }
   ],
   "source": [
    "from dsa.tree import Tree, Node\n",
    "\n",
    "def tree_height(root):\n",
    "    if root is None:\n",
    "        return 0\n",
    "    \n",
    "    left_depth = tree_height(root.left)\n",
    "    right_depth = tree_height(root.right)\n",
    "    \n",
    "    return max(left_depth, right_depth) + 1\n",
    "\n",
    "\n",
    "root = Node(1)\n",
    "root.left = Node(2)\n",
    "root.right = Node(3)\n",
    "root.left.left = Node(4)\n",
    "root.left.right = Node(5)\n",
    "root.left.left.left = Node(6)\n",
    "t = Tree(root)\n",
    "\n",
    "print(\"Height:\", tree_height(t.root)) \n"
   ]
  },
  {
   "cell_type": "markdown",
   "id": "4f10d085-4381-4a44-a77c-586fdffd5ebb",
   "metadata": {},
   "source": [
    "20. Write a function that accepts a valid binary search tree and a number (n) and returns the nth largest number in the tree.\n"
   ]
  },
  {
   "cell_type": "code",
   "execution_count": null,
   "id": "58ca38fa-a7b6-4971-9c04-53f03fa4fb83",
   "metadata": {},
   "outputs": [],
   "source": [
    "from dsa.tree import Tree, Node\n",
    "\n",
    "def inorder_traversal(root, result):\n",
    "    if root is None:\n",
    "        return\n",
    "    inorder_traversal(root.right, result)\n",
    "    result.append(root.value)\n",
    "    inorder_traversal(root.left, result)\n",
    "\n",
    "def nth_largest_in_bst(root, n):\n",
    "    if root is None or n <= 0:\n",
    "        return None\n",
    "    \n",
    "    result = []\n",
    "    inorder_traversal(root, result)\n",
    "    \n",
    "    if n <= len(result):\n",
    "        return result[n - 1]\n",
    "    else:\n",
    "        return None\n",
    "\n",
    "root = Node(5)\n",
    "root.left = Node(3)\n",
    "root.right = Node(8)\n",
    "root.left.left = Node(2)\n",
    "root.left.right = Node(4)\n",
    "root.right.left = Node(6)\n",
    "root.right.right = Node(9)\n",
    "t = Tree(root)\n",
    "\n",
    "n = 3\n",
    "nth_largest = nth_largest_in_bst(t.root, n)\n",
    "if nth_largest is not None:\n",
    "    print(f\"The #{n} largest number is: {nth_largest}\")\n",
    "else:\n",
    "    print(f\"No #{n} largest number found.\")\n"
   ]
  },
  {
   "cell_type": "markdown",
   "id": "b0db63a2-2841-40c0-aea3-cec5c1262da1",
   "metadata": {},
   "source": [
    "21. Write a function that given a starting vertex in a graph, returns the vertex with the most incoming edges. Implement for either an adjacency list or adjacency matrix representation."
   ]
  },
  {
   "cell_type": "markdown",
   "id": "1c4fa2c6-152f-4de6-a4cf-c3e1aa287521",
   "metadata": {},
   "source": [
    "adjacency list solution"
   ]
  },
  {
   "cell_type": "code",
   "execution_count": null,
   "id": "2f2bb963-1d2a-4014-9e68-ee7de1a0a982",
   "metadata": {},
   "outputs": [],
   "source": [
    "from dsa.graph import Vertex\n",
    "\n",
    "def vertex_incoming_edges(vertex, visited={}, max_edges=0, max_vertex=None):\n",
    "    visited[vertex] = True\n",
    "    incoming_edges = len(vertex.adjacents)\n",
    "    if incoming_edges > max_edges:\n",
    "        max_edges = incoming_edges\n",
    "        max_vertex = vertex\n",
    "    \n",
    "    for v in vertex.adjacents:\n",
    "        if not visited.get(v, False):\n",
    "            max_vertex = vertex_incoming_edges(v, visited, max_edges, max_vertex)\n",
    "\n",
    "    return max_vertex\n",
    "    \n",
    "\n",
    "# Undirected Graph\n",
    "# B has most incoming vertices (4)\n",
    "a = Vertex(\"A\")\n",
    "b = Vertex(\"B\")\n",
    "c = Vertex(\"C\")\n",
    "d = Vertex(\"D\")\n",
    "e = Vertex(\"E\")\n",
    "f = Vertex(\"F\")\n",
    "\n",
    "a.add_adjacent_vertex(b)\n",
    "a.add_adjacent_vertex(c)\n",
    "b.add_adjacent_vertex(c)\n",
    "b.add_adjacent_vertex(e)\n",
    "d.add_adjacent_vertex(b)\n",
    "e.add_adjacent_vertex(d)\n",
    "e.add_adjacent_vertex(f)\n",
    "\n",
    "vertex_incoming_edges(a)"
   ]
  },
  {
   "cell_type": "markdown",
   "id": "9eb6d36b-0916-4088-af71-468ac3120306",
   "metadata": {},
   "source": [
    "adjacency matrix solution"
   ]
  },
  {
   "cell_type": "code",
   "execution_count": null,
   "id": "a72842b9-615c-47cc-a669-3776afec21d0",
   "metadata": {},
   "outputs": [],
   "source": [
    "from dsa.graph import AdjacencyMatrixGraph\n",
    "\n",
    "def vertex_incoming_edges(graph):\n",
    "    num_vertices = len(graph.array)\n",
    "    incoming_edges = [0] * num_vertices\n",
    "\n",
    "    for row in graph.array:\n",
    "        for col, value in enumerate(row):\n",
    "            if value:\n",
    "                incoming_edges[col] += 1\n",
    "\n",
    "    max_incoming_edges = max(incoming_edges)\n",
    "    vertex_max = graph.labels[incoming_edges.index(max_incoming_edges)]\n",
    "\n",
    "    return vertex_max\n",
    "\n",
    "# undirected graph\n",
    "# B has the most incoming edges (4)\n",
    "graph = AdjacencyMatrixGraph([\"A\", \"B\", \"C\", \"D\", \"E\", \"F\"])\n",
    "graph.add_adjacent_vertex(\"A\", \"B\")\n",
    "graph.add_adjacent_vertex(\"A\", \"C\")\n",
    "graph.add_adjacent_vertex(\"B\", \"C\")\n",
    "graph.add_adjacent_vertex(\"B\", \"E\")\n",
    "graph.add_adjacent_vertex(\"D\", \"B\")\n",
    "graph.add_adjacent_vertex(\"E\", \"D\")\n",
    "graph.add_adjacent_vertex(\"E\", \"F\")\n",
    "\n",
    "graph.print_graph()\n",
    "\n",
    "vertex = vertex_incoming_edges(graph)\n",
    "print(f\"Vertex with the most incoming edges: {vertex}\")\n"
   ]
  },
  {
   "cell_type": "code",
   "execution_count": null,
   "id": "3f4b2a2e-3c17-4f09-9ccb-d7ed5c6c2fb7",
   "metadata": {},
   "outputs": [],
   "source": []
  }
 ],
 "metadata": {
  "kernelspec": {
   "display_name": "Python 3 (ipykernel)",
   "language": "python",
   "name": "python3"
  },
  "language_info": {
   "codemirror_mode": {
    "name": "ipython",
    "version": 3
   },
   "file_extension": ".py",
   "mimetype": "text/x-python",
   "name": "python",
   "nbconvert_exporter": "python",
   "pygments_lexer": "ipython3",
   "version": "3.12.1"
  }
 },
 "nbformat": 4,
 "nbformat_minor": 5
}
